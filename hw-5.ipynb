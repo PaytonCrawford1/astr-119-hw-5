{
 "cells": [
  {
   "cell_type": "code",
   "execution_count": null,
   "metadata": {},
   "outputs": [],
   "source": [
    "%matplotlib inline\n",
    "import numpy as np\n",
    "import matplotlib.pyplot as plt\n",
    "import math"
   ]
  },
  {
   "cell_type": "code",
   "execution_count": null,
   "metadata": {},
   "outputs": [],
   "source": [
    "def f(x):\n",
    "    return np.exp(-2 * x) * np.cos(x)"
   ]
  },
  {
   "cell_type": "code",
   "execution_count": null,
   "metadata": {},
   "outputs": [],
   "source": [
    "def F(x):\n",
    "    return (1/5) * np.exp(-2 * x) * (np.sin(x) - 2 * np.cos(x))"
   ]
  },
  {
   "cell_type": "code",
   "execution_count": null,
   "metadata": {},
   "outputs": [],
   "source": [
    "answer = F(np.pi) - F(0)"
   ]
  },
  {
   "cell_type": "code",
   "execution_count": null,
   "metadata": {},
   "outputs": [],
   "source": [
    "def trapezoid_core(f, x, h):\n",
    "    return 0.5 * h * (f(x + h) + f(x))\n",
    "def trapezoid(f, s, b, N):\n",
    "    x = np.linspace( s, b, N)\n",
    "    h = x[1] - x[0] \n",
    "    I = 0.0\n",
    "    intervals_trapezoid = 0.0\n",
    "    for i in range(len(x)-1):\n",
    "        I += trapezoid_core(f, x[i], h)\n",
    "        intervals_trapezoid += 1\n",
    "    print( \" It takes \" + str(intervals_trapezoid) + \" intervals to reach the given accuracy for the trapezoid method.\")\n",
    "    return I"
   ]
  },
  {
   "cell_type": "code",
   "execution_count": null,
   "metadata": {},
   "outputs": [],
   "source": [
    "def simpson_core(f, x, h):\n",
    "    return h*( f(x) + 4 * f(x + h) + f(x +2*h)) / 3\n",
    "def simpson(f, a, b, N):\n",
    "    x = np.linspace(a, b, N)\n",
    "    h = x[1] - x[0]\n",
    "    I = 0.0\n",
    "    intervals_simpson = 0.0\n",
    "    for i in range(0, len(x)-2, 2):\n",
    "        I += simpson_core(f, x[i], h)\n",
    "        intervals_simpson += 1\n",
    "    if (N%2==0):\n",
    "        I+= simpson_core(f, x[-2], 0.5 * h)\n",
    "    print( \"It takes \" + str(intervals_simpson) + \" intervals to reach the given accuracy for Simpson's method\")\n",
    "    return I"
   ]
  },
  {
   "cell_type": "code",
   "execution_count": null,
   "metadata": {},
   "outputs": [],
   "source": [
    "def romberg_core(f, a, b, i):\n",
    "    h = b-a\n",
    "    dh = h/2.**(i)\n",
    "    K = h/2.**(i++1)\n",
    "    M = 0.0\n",
    "    for j in range(2**i):\n",
    "        M+= f(a + 0.5*dh + j*dh)\n",
    "    return M*K\n",
    "def romberg(f, a, b, tol):\n",
    "    i=0;\n",
    "    imax = 1000\n",
    "    delta = 100.0*np.fabs(tol)\n",
    "    I = np.zeros(imax)\n",
    "    I[0] = 0.5 * (b-a) * (f(a) + f(b))\n",
    "    i+=1\n",
    "    n = 0\n",
    "    while(delta>tol):\n",
    "        n = n+1\n",
    "        I[i] = 0.5*I[i-1] + romberg_core(f, a, b, i)\n",
    "        delta = np.fabs((I[i]-I[i-1])/I[i])\n",
    "        if (delta>tol):\n",
    "            i += 1\n",
    "            if (i > imax):\n",
    "                raise StopIteration('Giving up with i= ', i)\n",
    "    return I[i], n\n",
    "        "
   ]
  },
  {
   "cell_type": "code",
   "execution_count": null,
   "metadata": {},
   "outputs": [],
   "source": [
    "a1 = trapezoid(f, 0 , np.pi, 10)\n",
    "a2 = simpson(f, 0, np.pi, 10)\n",
    "a3, n = romberg(f, 0, np.pi, 1.0e-6)\n",
    "print('Trapezoid:', a1)\n",
    "print('Simpson:', a2)\n",
    "print('Romberg:', a3, n)"
   ]
  }
 ],
 "metadata": {
  "kernelspec": {
   "display_name": "Python 3",
   "language": "python",
   "name": "python3"
  },
  "language_info": {
   "codemirror_mode": {
    "name": "ipython",
    "version": 3
   },
   "file_extension": ".py",
   "mimetype": "text/x-python",
   "name": "python",
   "nbconvert_exporter": "python",
   "pygments_lexer": "ipython3",
   "version": "3.8.3"
  }
 },
 "nbformat": 4,
 "nbformat_minor": 4
}
